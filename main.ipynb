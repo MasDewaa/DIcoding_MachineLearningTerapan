{
 "cells": [
  {
   "cell_type": "markdown",
   "metadata": {},
   "source": [
    "# 1. Domain Proyek\n",
    "**Latar Belakang**\n",
    "\n",
    "Diabetes mellitus merupakan salah satu penyakit tidak menular dengan prevalensi yang terus meningkat secara global. Menurut World Health Organization (WHO), jumlah penderita diabetes meningkat dari 108 juta pada tahun 1980 menjadi 422 juta pada tahun 2014, dan diperkirakan akan terus bertambah seiring dengan perubahan gaya hidup dan faktor risiko lainnya (WHO, 2021). Diabetes tidak hanya berdampak pada kesehatan individu tetapi juga memberikan beban ekonomi yang signifikan bagi sistem kesehatan.\n",
    "\n",
    "Faktor risiko diabetes meliputi aspek genetik, gaya hidup, dan kondisi kesehatan lainnya seperti hipertensi dan penyakit jantung (ADA, 2022). Oleh karena itu, analisis prediktif berbasis data sangat diperlukan untuk mengidentifikasi individu yang berisiko tinggi mengalami diabetes, sehingga dapat dilakukan intervensi dini guna menekan angka kejadian dan komplikasi yang ditimbulkan.\n",
    "\n",
    "**Mengapa Masalah Ini Harus Diselesaikan?**\n",
    "1. Pencegahan Dini: Dengan memanfaatkan model prediktif berbasis machine learning, individu dengan risiko tinggi dapat dikenali lebih awal sehingga memungkinkan implementasi strategi pencegahan seperti perubahan pola makan dan gaya hidup.\n",
    "3. Optimalisasi Sumber Daya Kesehatan: Sistem kesehatan dapat mengalokasikan sumber daya lebih efisien dengan memprioritaskan intervensi pada kelompok yang lebih rentan.\n",
    "4. Dukungan Pengambilan Keputusan Klinis: Model prediktif dapat digunakan oleh tenaga medis untuk memperkuat diagnosis dan perencanaan perawatan berbasis data.\n",
    "5. Bagaimana Masalah Ini Harus Diselesaikan?\n",
    "\n",
    "**Sumber/reference**\n",
    "1. World Health Organization (WHO). (2021). Diabetes. Retrieved from https://www.who.int/news-room/fact-sheets/detail/diabetes\n",
    "2. "
   ]
  },
  {
   "cell_type": "code",
   "execution_count": null,
   "metadata": {},
   "outputs": [],
   "source": []
  },
  {
   "cell_type": "code",
   "execution_count": null,
   "metadata": {},
   "outputs": [],
   "source": []
  }
 ],
 "metadata": {
  "kernelspec": {
   "display_name": ".venv",
   "language": "python",
   "name": "python3"
  },
  "language_info": {
   "name": "python",
   "version": "3.12.7"
  }
 },
 "nbformat": 4,
 "nbformat_minor": 2
}
